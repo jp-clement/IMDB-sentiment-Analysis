{
 "cells": [
  {
   "cell_type": "code",
   "execution_count": 1,
   "metadata": {},
   "outputs": [],
   "source": [
    "import pandas as pd\n",
    "import matplotlib.pyplot as plt\n",
    "import sys\n",
    "\n",
    "from sklearn.model_selection import train_test_split\n",
    "from sklearn.decomposition import PCA\n",
    "import sklearn.feature_extraction as ftex\n",
    "\n",
    "from sklearn.pipeline import Pipeline\n",
    "from sklearn.model_selection import GridSearchCV\n",
    "\n",
    "\n",
    "#Models\n",
    "from sklearn.naive_bayes import MultinomialNB\n",
    "from sklearn.neighbors import KNeighborsClassifier\n",
    "from sklearn.tree import DecisionTreeClassifier\n",
    "from sklearn.svm import SVC\n",
    "from sklearn.ensemble import RandomForestClassifier\n",
    "from sklearn.decomposition import TruncatedSVD"
   ]
  },
  {
   "cell_type": "markdown",
   "metadata": {},
   "source": [
    "# Bag of Words, Bag of Popcorn\n",
    "\n",
    "[Bag of Words, Bag of Popcorn](https://www.kaggle.com/c/word2vec-nlp-tutorial/data) competition. \n",
    "\n",
    "NLP feature pre-processing (using SKLearn and NLTK) to build the best classifier possible with a feature pipeline, and gridsearch for the final model."
   ]
  },
  {
   "cell_type": "markdown",
   "metadata": {},
   "source": [
    "# 1. Importing Data"
   ]
  },
  {
   "cell_type": "code",
   "execution_count": 3,
   "metadata": {},
   "outputs": [],
   "source": [
    "df=pd.read_csv(\"data/labeledTrainData.tsv\", sep=\"\\t\")\n",
    "df[\"ogreview\"]=df.review\n"
   ]
  },
  {
   "cell_type": "markdown",
   "metadata": {},
   "source": [
    "# 2. Data Cleaning "
   ]
  },
  {
   "cell_type": "code",
   "execution_count": 4,
   "metadata": {},
   "outputs": [],
   "source": [
    "#Automating the str.replace(exp1, exp2)\n",
    "def cleanup(series, dic):\n",
    "    for key in dic.keys():\n",
    "        series=series.str.replace(key, dic[key], regex=False)\n",
    "\n",
    "    return series\n",
    "\n",
    "#List of strings to replace\n",
    "to_replace={\n",
    "    \"<br /><br />\" :\"\",\n",
    "    \"...\": \".\",\n",
    "    \"..\": \".\",\n",
    "    '\"': \"\",\n",
    "    \"'s\": \"\"\n",
    "}\n",
    "\n",
    "df.review = df.review.str.lower()\n",
    "df[\"text\"]=cleanup(df.review, to_replace)\n",
    "\n"
   ]
  },
  {
   "cell_type": "markdown",
   "metadata": {},
   "source": [
    "# 3. Modeling"
   ]
  },
  {
   "cell_type": "markdown",
   "metadata": {},
   "source": [
    "Train-test split"
   ]
  },
  {
   "cell_type": "code",
   "execution_count": null,
   "metadata": {},
   "outputs": [],
   "source": [
    "x, x_holdout,y, y_holdout = train_test_split(df.drop(columns=['sentiment']).text, df.sentiment, train_size=0.9, random_state=0)"
   ]
  },
  {
   "cell_type": "markdown",
   "metadata": {},
   "source": [
    "Initializing the text vectorizer"
   ]
  },
  {
   "cell_type": "code",
   "execution_count": null,
   "metadata": {},
   "outputs": [],
   "source": [
    "idf=ftex.text.TfidfVectorizer(stop_words=\"english\", max_df=0.9, strip_accents=\"ascii\")\n",
    "\n",
    "#We can also use simple bag of word vectorizer, but it leads to slighlyt less accurate models\n",
    "# vect=CountVectorizer(stop_words=\"english\", min_df=5, max_df=0.9, strip_accents=\"ascii\")"
   ]
  },
  {
   "cell_type": "code",
   "execution_count": 18,
   "metadata": {},
   "outputs": [],
   "source": [
    "#Dictionary to save the model performance\n",
    "model_scores={}"
   ]
  },
  {
   "cell_type": "markdown",
   "metadata": {},
   "source": [
    "### 3.1 k-nearest neighbors classifier"
   ]
  },
  {
   "cell_type": "code",
   "execution_count": 111,
   "metadata": {},
   "outputs": [
    {
     "name": "stdout",
     "output_type": "stream",
     "text": [
      "Fitting 5 folds for each of 5 candidates, totalling 25 fits\n",
      "{'knn__n_neighbors': 8}\n",
      "0.7821777777777779\n"
     ]
    }
   ],
   "source": [
    "#Setting up the pipeline\n",
    "pipeline=Pipeline(\n",
    "    [   #Preprocessing\n",
    "        (\"vect\", idf),\n",
    "        #ML modeling\n",
    "        ('knn', KNeighborsClassifier()),\n",
    "    ]\n",
    ")\n",
    "\n",
    "#parameters for the gridsearch\n",
    "params_grid={\n",
    "    'knn__n_neighbors': range(2,10) \n",
    "}\n",
    "\n",
    "#Runnig the gridsearch \n",
    "grid=GridSearchCV(pipeline, param_grid=params_grid, scoring='accuracy', cv=5, n_jobs=5, verbose=3)\n",
    "grid.fit(x,y)\n",
    "\n",
    "print(grid.best_params_)\n",
    "print(grid.best_score_)\n",
    "\n",
    "#Saving the results on the holdout set\n",
    "model_scores[(str(grid.best_estimator_).split(\"\\n\")[-1])] = accuracy_score(y_holdout, grid.best_estimator_.predict(x_holdout))\n"
   ]
  },
  {
   "cell_type": "markdown",
   "metadata": {},
   "source": [
    "### 3.2 Naive Bayes classifier"
   ]
  },
  {
   "cell_type": "code",
   "execution_count": 46,
   "metadata": {},
   "outputs": [
    {
     "name": "stdout",
     "output_type": "stream",
     "text": [
      "Fitting 5 folds for each of 9 candidates, totalling 45 fits\n",
      "{'clf__alpha': 1, 'vect__ngram_range': (1, 2)}\n",
      "0.8726666666666667\n"
     ]
    }
   ],
   "source": [
    "#Setting up the pipeline\n",
    "pipeline=Pipeline(\n",
    "    [   #Preprocessing\n",
    "        (\"vect\", idf),\n",
    "        #ML modeling\n",
    "        ('clf', MultinomialNB()),\n",
    "    ]\n",
    ")\n",
    "\n",
    "#parameters for the gridsearch\n",
    "params_grid={\n",
    "    # 'vect__min_df' : np.arange(2,6),\n",
    "    'vect__ngram_range': [(1,2)], #[(1,1),(1,2), (2,2)]\n",
    "    \n",
    "    'clf__alpha': [ 1, 1.5, 2] #[0.1, 0.5, 1, 1.5, 2, 3, 4, 5]\n",
    "}\n",
    "\n",
    "#Runnig the gridsearch \n",
    "grid=GridSearchCV(pipeline, param_grid=params_grid, scoring='accuracy', cv=5, n_jobs=5, verbose=3)\n",
    "grid.fit(x,y)\n",
    "\n",
    "print(grid.best_params_)\n",
    "print(grid.best_score_)\n",
    "\n",
    "#Saving the results\n",
    "model_scores[(str(grid.best_estimator_).split(\"\\n\")[-1])] =accuracy_score(y_holdout, grid.best_estimator_.predict(x_holdout))"
   ]
  },
  {
   "cell_type": "markdown",
   "metadata": {},
   "source": [
    "### 3.3 Support Vector Classifier"
   ]
  },
  {
   "cell_type": "code",
   "execution_count": 35,
   "metadata": {},
   "outputs": [
    {
     "name": "stdout",
     "output_type": "stream",
     "text": [
      "Fitting 5 folds for each of 1 candidates, totalling 5 fits\n",
      "{'svc__C': 1, 'svc__gamma': 2, 'tsvd__n_components': 200, 'vect__min_df': 2, 'vect__ngram_range': (1, 2)}\n",
      "0.8674222222222223\n"
     ]
    }
   ],
   "source": [
    "#Setting up the pipeline\n",
    "pipeline=Pipeline(\n",
    "    [   #Preprocessing\n",
    "        (\"vect\", idf),\n",
    "        ('tsvd', TruncatedSVD()), \n",
    "        #ML modeling\n",
    "        ('svc', SVC())\n",
    "    ]\n",
    ")\n",
    "\n",
    "#parameters for the gridsearch\n",
    "params_grid={\n",
    "    'vect__min_df' : [2], #np.arange(2,6)\n",
    "    'vect__ngram_range': [(1,2)], #(1,2) \n",
    "    'tsvd__n_components': [200], \n",
    "\n",
    "    'svc__gamma': [2],\n",
    "    'svc__C' :[1]\n",
    "\n",
    "}\n",
    "\n",
    "#Runnig the gridsearch \n",
    "grid=GridSearchCV(pipeline, param_grid=params_grid, scoring='accuracy', cv=5, n_jobs=5, verbose=3)\n",
    "grid.fit(x,y)\n",
    "\n",
    "print(grid.best_params_)\n",
    "print(grid.best_score_)\n",
    "\n",
    "#Saving the results\n",
    "model_scores[(str(grid.best_estimator_).split(\"\\n\")[-1])] =accuracy_score(y_holdout, grid.best_estimator_.predict(x_holdout))"
   ]
  },
  {
   "cell_type": "markdown",
   "metadata": {},
   "source": [
    "### 3.4 Decision Trees"
   ]
  },
  {
   "cell_type": "code",
   "execution_count": 30,
   "metadata": {},
   "outputs": [
    {
     "name": "stdout",
     "output_type": "stream",
     "text": [
      "Fitting 5 folds for each of 1 candidates, totalling 5 fits\n",
      "{'dtree__random_state': 0, 'vect__min_df': 2, 'vect__ngram_range': (1, 2)}\n",
      "0.7095111111111111\n"
     ]
    }
   ],
   "source": [
    "#Setting up the pipeline\n",
    "pipeline=Pipeline(\n",
    "    [   #Preprocessing\n",
    "        (\"vect\", idf),\n",
    "        #ML modeling\n",
    "        ('dtree', DecisionTreeClassifier()), \n",
    "    ]\n",
    ")\n",
    "\n",
    "#parameters for the gridsearch\n",
    "params_grid={\n",
    "    'vect__min_df' : [2], #np.arange(2,6)\n",
    "    'vect__ngram_range': [(1,2)], #(1,2) \n",
    "\n",
    "    'dtree__random_state':[0]\n",
    "}\n",
    "\n",
    "#Runnig the gridsearch \n",
    "grid=GridSearchCV(pipeline, param_grid=params_grid, scoring='accuracy', cv=5, n_jobs=5, verbose=3)\n",
    "grid.fit(x,y)\n",
    "\n",
    "print(grid.best_params_)\n",
    "print(grid.best_score_)\n",
    "\n",
    "#Saving the results\n",
    "model_scores[(str(grid.best_estimator_).split(\"\\n\")[-1])] =accuracy_score(y_holdout, grid.best_estimator_.predict(x_holdout))"
   ]
  },
  {
   "cell_type": "markdown",
   "metadata": {},
   "source": [
    "### 3.5 Random forest classifier"
   ]
  },
  {
   "cell_type": "code",
   "execution_count": null,
   "metadata": {},
   "outputs": [
    {
     "name": "stdout",
     "output_type": "stream",
     "text": [
      "Fitting 5 folds for each of 1 candidates, totalling 5 fits\n",
      "{}\n",
      "0.8452\n"
     ]
    }
   ],
   "source": [
    "#Setting up the pipeline\n",
    "pipeline=Pipeline(\n",
    "    [   #Preprocessing\n",
    "        (\"vect\", idf),\n",
    "        #ML modeling\n",
    "        ('randomf', RandomForestClassifier())\n",
    "    ]\n",
    ")\n",
    "\n",
    "#parameters for the gridsearch\n",
    "params_grid={\n",
    "    # 'vect__min_df' : [2], #np.arange(2,6)\n",
    "    # 'vect__ngram_range': [(1,2)], #(1,2) \n",
    "}\n",
    "\n",
    "#Runnig the gridsearch \n",
    "grid=GridSearchCV(pipeline, param_grid=params_grid, scoring='accuracy', cv=5, n_jobs=5, verbose=3)\n",
    "grid.fit(x,y)\n",
    "\n",
    "print(grid.best_params_)\n",
    "print(grid.best_score_)\n",
    "\n",
    "#Saving the results\n",
    "model_scores[(str(grid.best_estimator_).split(\"\\n\")[-1])] =accuracy_score(y_holdout, grid.best_estimator_.predict(x_holdout))"
   ]
  },
  {
   "cell_type": "markdown",
   "metadata": {},
   "source": [
    "### 3.6 NLTK Valence Aware Dictionary for Sentiment Reasoning (VADER Sentiment analysis) <br>\n",
    "see:  https://www.nltk.org/_modules/nltk/sentiment/vader.html <br>\n",
    "\n",
    "reference :Hutto, C.J. & Gilbert, E.E. (2014). VADER: A Parsimonious Rule-based Model for\n",
    "Sentiment Analysis of Social Media Text. Eighth International Conference on\n",
    "Weblogs and Social Media (ICWSM-14). Ann Arbor, MI, June 2014."
   ]
  },
  {
   "cell_type": "code",
   "execution_count": 75,
   "metadata": {},
   "outputs": [],
   "source": [
    "#Check if 'vader_lexicon' is downloaded\n",
    "#and if not, download it\n",
    "\n",
    "if 'nltk' not in sys.modules:\n",
    "    import nltk\n",
    "    nltk.download('vader_lexicon')\n",
    "\n",
    "    from nltk.sentiment.vader import SentimentIntensityAnalyzer\n",
    "    sid = SentimentIntensityAnalyzer()\n",
    "\n",
    "#Run vader's sentiment analysis\n",
    "def vader(input):\n",
    "    vader_out = input.apply(lambda review: sid.polarity_scores(review))\n",
    "    scores=vader_out.apply(pd.Series)\n",
    "\n",
    "    return scores\n",
    "\n",
    "vd=vader(x)\n",
    "\n",
    "plt.hist(vd.compound)\n",
    "\n",
    "#0.8 seems to be the threshold for positive-negative sentiment that gives the best results on the train set \n",
    "vd[\"compound_binary\"] = vd.compound.apply(lambda x: 1 if (x >= 0.8) else 0) \n",
    "print(f\"Best accuracy: {accuracy_score(y, vd.compound_binary)}\")"
   ]
  },
  {
   "cell_type": "code",
   "execution_count": 84,
   "metadata": {},
   "outputs": [],
   "source": [
    "#Performing vader on the holdout set\n",
    "vd=vader(x_holdout)\n",
    "vd[\"compound_binary\"] = vd.compound.apply(lambda x: 1 if (x >= 0.8) else 0) \n",
    "\n",
    "model_scores[\"                NLTK_vader\"] =accuracy_score(y_holdout, vd.compound_binary)"
   ]
  },
  {
   "cell_type": "markdown",
   "metadata": {},
   "source": [
    "# 4. Comparing the Different Models"
   ]
  },
  {
   "cell_type": "markdown",
   "metadata": {},
   "source": [
    "Best model"
   ]
  },
  {
   "cell_type": "code",
   "execution_count": 118,
   "metadata": {},
   "outputs": [
    {
     "name": "stdout",
     "output_type": "stream",
     "text": [
      "Best model tested:                 ('clf', MultinomialNB(alpha=1))])\n",
      "Accuracy: 0.8726666666666667\n"
     ]
    }
   ],
   "source": [
    "max_key = max(model_scores, key=model_scores.get)\n",
    "print(f\"Best model tested: {max_key}\")\n",
    "print(f'Accuracy: {model_scores[max_key]}')"
   ]
  },
  {
   "cell_type": "markdown",
   "metadata": {},
   "source": [
    "Printing the values"
   ]
  },
  {
   "cell_type": "code",
   "execution_count": null,
   "metadata": {},
   "outputs": [
    {
     "data": {
      "text/plain": [
       "{\"                ('clf', MultinomialNB(alpha=1))])\": 0.8726666666666667,\n",
       " \"                ('knn', KNeighborsClassifier(n_neighbors=8))])\": 0.7821777777777779,\n",
       " \"                ('dtree', DecisionTreeClassifier(random_state=0))])\": 0.7095111111111111,\n",
       " \"                ('svc', SVC(C=1, gamma=2))])\": 0.8674222222222223,\n",
       " \"                ('randomf', RandomForestClassifier())])\": 0.8452,\n",
       " '                NLTK_vader': 0.7392}"
      ]
     },
     "metadata": {},
     "output_type": "display_data"
    }
   ],
   "source": [
    "model_scores"
   ]
  },
  {
   "cell_type": "markdown",
   "metadata": {},
   "source": [
    "Plotting the different models accuracy scores"
   ]
  },
  {
   "cell_type": "code",
   "execution_count": 112,
   "metadata": {},
   "outputs": [
    {
     "data": {
      "image/png": "[encoded data removed]",
      "text/plain": [
       "<Figure size 432x288 with 1 Axes>"
      ]
     },
     "metadata": {
      "needs_background": "light"
     },
     "output_type": "display_data"
    }
   ],
   "source": [
    "plt.bar(*zip(*model_scores.items()))\n",
    "plt.xticks(rotation=90)\n",
    "plt.ylim(0.5, 1)\n",
    "plt.show()"
   ]
  }
 ],
 "metadata": {
  "anaconda-cloud": {},
  "kernelspec": {
   "display_name": "Python 3",
   "language": "python",
   "name": "python3"
  },
  "language_info": {
   "codemirror_mode": {
    "name": "ipython",
    "version": 3
   },
   "file_extension": ".py",
   "mimetype": "text/x-python",
   "name": "python",
   "nbconvert_exporter": "python",
   "pygments_lexer": "ipython3",
   "version": "3.9.7"
  }
 },
 "nbformat": 4,
 "nbformat_minor": 1
}
